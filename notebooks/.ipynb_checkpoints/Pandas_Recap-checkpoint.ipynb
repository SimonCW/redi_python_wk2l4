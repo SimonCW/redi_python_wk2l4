{
 "cells": [
  {
   "cell_type": "code",
   "execution_count": 1,
   "metadata": {},
   "outputs": [],
   "source": [
    "import pandas as pd\n",
    "import numpy as np\n",
    "import matplotlib.pyplot as plt"
   ]
  },
  {
   "cell_type": "code",
   "execution_count": 3,
   "metadata": {},
   "outputs": [
    {
     "name": "stdout",
     "output_type": "stream",
     "text": [
      "          A         B         C         D\n",
      "0  0.999156  0.862180  0.458307  0.872080\n",
      "1  0.160622  0.364925  0.991487  0.005769\n",
      "2  0.194924  0.195329  0.113962  0.315729\n",
      "3  0.748797  0.847844  0.748493  0.601457\n",
      "4  0.245694  0.921797  0.259101  0.693353\n",
      "5  0.277686  0.080903  0.567543  0.530099\n",
      "6  0.772646  0.917495  0.644059  0.200539\n",
      "7  0.812765  0.420442  0.951245  0.747756\n",
      "8  0.981433  0.718544  0.709702  0.290106\n",
      "9  0.875611  0.712334  0.244870  0.649265\n"
     ]
    }
   ],
   "source": [
    "#creating a dataframe\n",
    "df=pd.DataFrame(np.random.rand(10,4),columns=['A','B','C','D'])\n",
    "print(df)"
   ]
  },
  {
   "cell_type": "code",
   "execution_count": 6,
   "metadata": {},
   "outputs": [
    {
     "name": "stdout",
     "output_type": "stream",
     "text": [
      "    A    B   C   D\n",
      "0  10   20  30  40\n",
      "1  20  100  40  50\n"
     ]
    }
   ],
   "source": [
    "#creating a dataframe with dictionary\n",
    "df2 = pd.DataFrame({'A' : [10,20],'B' : [20,100],'C' : [30,40],'D' : [40,50]})\n",
    "print(df2)"
   ]
  },
  {
   "cell_type": "code",
   "execution_count": 7,
   "metadata": {},
   "outputs": [
    {
     "data": {
      "text/plain": [
       "A    int64\n",
       "B    int64\n",
       "C    int64\n",
       "D    int64\n",
       "dtype: object"
      ]
     },
     "execution_count": 7,
     "metadata": {},
     "output_type": "execute_result"
    }
   ],
   "source": [
    "#looking at the variable types\n",
    "df2.dtypes"
   ]
  },
  {
   "cell_type": "code",
   "execution_count": 8,
   "metadata": {},
   "outputs": [
    {
     "data": {
      "text/html": [
       "<div>\n",
       "<style scoped>\n",
       "    .dataframe tbody tr th:only-of-type {\n",
       "        vertical-align: middle;\n",
       "    }\n",
       "\n",
       "    .dataframe tbody tr th {\n",
       "        vertical-align: top;\n",
       "    }\n",
       "\n",
       "    .dataframe thead th {\n",
       "        text-align: right;\n",
       "    }\n",
       "</style>\n",
       "<table border=\"1\" class=\"dataframe\">\n",
       "  <thead>\n",
       "    <tr style=\"text-align: right;\">\n",
       "      <th></th>\n",
       "      <th>A</th>\n",
       "      <th>B</th>\n",
       "      <th>C</th>\n",
       "      <th>D</th>\n",
       "    </tr>\n",
       "  </thead>\n",
       "  <tbody>\n",
       "    <tr>\n",
       "      <th>0</th>\n",
       "      <td>0.999156</td>\n",
       "      <td>0.862180</td>\n",
       "      <td>0.458307</td>\n",
       "      <td>0.872080</td>\n",
       "    </tr>\n",
       "    <tr>\n",
       "      <th>1</th>\n",
       "      <td>0.160622</td>\n",
       "      <td>0.364925</td>\n",
       "      <td>0.991487</td>\n",
       "      <td>0.005769</td>\n",
       "    </tr>\n",
       "    <tr>\n",
       "      <th>2</th>\n",
       "      <td>0.194924</td>\n",
       "      <td>0.195329</td>\n",
       "      <td>0.113962</td>\n",
       "      <td>0.315729</td>\n",
       "    </tr>\n",
       "    <tr>\n",
       "      <th>3</th>\n",
       "      <td>0.748797</td>\n",
       "      <td>0.847844</td>\n",
       "      <td>0.748493</td>\n",
       "      <td>0.601457</td>\n",
       "    </tr>\n",
       "    <tr>\n",
       "      <th>4</th>\n",
       "      <td>0.245694</td>\n",
       "      <td>0.921797</td>\n",
       "      <td>0.259101</td>\n",
       "      <td>0.693353</td>\n",
       "    </tr>\n",
       "  </tbody>\n",
       "</table>\n",
       "</div>"
      ],
      "text/plain": [
       "          A         B         C         D\n",
       "0  0.999156  0.862180  0.458307  0.872080\n",
       "1  0.160622  0.364925  0.991487  0.005769\n",
       "2  0.194924  0.195329  0.113962  0.315729\n",
       "3  0.748797  0.847844  0.748493  0.601457\n",
       "4  0.245694  0.921797  0.259101  0.693353"
      ]
     },
     "execution_count": 8,
     "metadata": {},
     "output_type": "execute_result"
    }
   ],
   "source": [
    "#looking at the top few values, default 5\n",
    "df.head()"
   ]
  },
  {
   "cell_type": "code",
   "execution_count": 9,
   "metadata": {},
   "outputs": [
    {
     "data": {
      "text/html": [
       "<div>\n",
       "<style scoped>\n",
       "    .dataframe tbody tr th:only-of-type {\n",
       "        vertical-align: middle;\n",
       "    }\n",
       "\n",
       "    .dataframe tbody tr th {\n",
       "        vertical-align: top;\n",
       "    }\n",
       "\n",
       "    .dataframe thead th {\n",
       "        text-align: right;\n",
       "    }\n",
       "</style>\n",
       "<table border=\"1\" class=\"dataframe\">\n",
       "  <thead>\n",
       "    <tr style=\"text-align: right;\">\n",
       "      <th></th>\n",
       "      <th>A</th>\n",
       "      <th>B</th>\n",
       "      <th>C</th>\n",
       "      <th>D</th>\n",
       "    </tr>\n",
       "  </thead>\n",
       "  <tbody>\n",
       "    <tr>\n",
       "      <th>5</th>\n",
       "      <td>0.277686</td>\n",
       "      <td>0.080903</td>\n",
       "      <td>0.567543</td>\n",
       "      <td>0.530099</td>\n",
       "    </tr>\n",
       "    <tr>\n",
       "      <th>6</th>\n",
       "      <td>0.772646</td>\n",
       "      <td>0.917495</td>\n",
       "      <td>0.644059</td>\n",
       "      <td>0.200539</td>\n",
       "    </tr>\n",
       "    <tr>\n",
       "      <th>7</th>\n",
       "      <td>0.812765</td>\n",
       "      <td>0.420442</td>\n",
       "      <td>0.951245</td>\n",
       "      <td>0.747756</td>\n",
       "    </tr>\n",
       "    <tr>\n",
       "      <th>8</th>\n",
       "      <td>0.981433</td>\n",
       "      <td>0.718544</td>\n",
       "      <td>0.709702</td>\n",
       "      <td>0.290106</td>\n",
       "    </tr>\n",
       "    <tr>\n",
       "      <th>9</th>\n",
       "      <td>0.875611</td>\n",
       "      <td>0.712334</td>\n",
       "      <td>0.244870</td>\n",
       "      <td>0.649265</td>\n",
       "    </tr>\n",
       "  </tbody>\n",
       "</table>\n",
       "</div>"
      ],
      "text/plain": [
       "          A         B         C         D\n",
       "5  0.277686  0.080903  0.567543  0.530099\n",
       "6  0.772646  0.917495  0.644059  0.200539\n",
       "7  0.812765  0.420442  0.951245  0.747756\n",
       "8  0.981433  0.718544  0.709702  0.290106\n",
       "9  0.875611  0.712334  0.244870  0.649265"
      ]
     },
     "execution_count": 9,
     "metadata": {},
     "output_type": "execute_result"
    }
   ],
   "source": [
    "#looking at the last few values\n",
    "df.tail()"
   ]
  },
  {
   "cell_type": "code",
   "execution_count": 10,
   "metadata": {},
   "outputs": [
    {
     "data": {
      "text/plain": [
       "RangeIndex(start=0, stop=10, step=1)"
      ]
     },
     "execution_count": 10,
     "metadata": {},
     "output_type": "execute_result"
    }
   ],
   "source": [
    "#to get the indexes\n",
    "df.index"
   ]
  },
  {
   "cell_type": "code",
   "execution_count": 11,
   "metadata": {},
   "outputs": [
    {
     "data": {
      "text/plain": [
       "Index(['A', 'B', 'C', 'D'], dtype='object')"
      ]
     },
     "execution_count": 11,
     "metadata": {},
     "output_type": "execute_result"
    }
   ],
   "source": [
    "#to get the column names\n",
    "df.columns"
   ]
  },
  {
   "cell_type": "code",
   "execution_count": 12,
   "metadata": {},
   "outputs": [
    {
     "data": {
      "text/plain": [
       "array([[0.99915582, 0.86218003, 0.45830696, 0.87208028],\n",
       "       [0.16062228, 0.36492472, 0.99148673, 0.00576856],\n",
       "       [0.19492418, 0.19532874, 0.11396209, 0.31572876],\n",
       "       [0.74879743, 0.84784411, 0.74849315, 0.60145662],\n",
       "       [0.24569436, 0.92179734, 0.25910078, 0.69335297],\n",
       "       [0.27768592, 0.08090295, 0.56754343, 0.53009883],\n",
       "       [0.7726461 , 0.91749503, 0.64405881, 0.20053943],\n",
       "       [0.81276499, 0.42044224, 0.95124489, 0.74775577],\n",
       "       [0.98143252, 0.71854376, 0.70970228, 0.29010613],\n",
       "       [0.87561141, 0.71233449, 0.24486993, 0.64926545]])"
      ]
     },
     "execution_count": 12,
     "metadata": {},
     "output_type": "execute_result"
    }
   ],
   "source": [
    "#to get the values\n",
    "df.values"
   ]
  },
  {
   "cell_type": "code",
   "execution_count": 13,
   "metadata": {},
   "outputs": [
    {
     "data": {
      "text/html": [
       "<div>\n",
       "<style scoped>\n",
       "    .dataframe tbody tr th:only-of-type {\n",
       "        vertical-align: middle;\n",
       "    }\n",
       "\n",
       "    .dataframe tbody tr th {\n",
       "        vertical-align: top;\n",
       "    }\n",
       "\n",
       "    .dataframe thead th {\n",
       "        text-align: right;\n",
       "    }\n",
       "</style>\n",
       "<table border=\"1\" class=\"dataframe\">\n",
       "  <thead>\n",
       "    <tr style=\"text-align: right;\">\n",
       "      <th></th>\n",
       "      <th>A</th>\n",
       "      <th>B</th>\n",
       "      <th>C</th>\n",
       "      <th>D</th>\n",
       "    </tr>\n",
       "  </thead>\n",
       "  <tbody>\n",
       "    <tr>\n",
       "      <th>count</th>\n",
       "      <td>10.000000</td>\n",
       "      <td>10.000000</td>\n",
       "      <td>10.000000</td>\n",
       "      <td>10.000000</td>\n",
       "    </tr>\n",
       "    <tr>\n",
       "      <th>mean</th>\n",
       "      <td>0.606934</td>\n",
       "      <td>0.604179</td>\n",
       "      <td>0.568877</td>\n",
       "      <td>0.490615</td>\n",
       "    </tr>\n",
       "    <tr>\n",
       "      <th>std</th>\n",
       "      <td>0.343846</td>\n",
       "      <td>0.313003</td>\n",
       "      <td>0.298639</td>\n",
       "      <td>0.275230</td>\n",
       "    </tr>\n",
       "    <tr>\n",
       "      <th>min</th>\n",
       "      <td>0.160622</td>\n",
       "      <td>0.080903</td>\n",
       "      <td>0.113962</td>\n",
       "      <td>0.005769</td>\n",
       "    </tr>\n",
       "    <tr>\n",
       "      <th>25%</th>\n",
       "      <td>0.253692</td>\n",
       "      <td>0.378804</td>\n",
       "      <td>0.308902</td>\n",
       "      <td>0.296512</td>\n",
       "    </tr>\n",
       "    <tr>\n",
       "      <th>50%</th>\n",
       "      <td>0.760722</td>\n",
       "      <td>0.715439</td>\n",
       "      <td>0.605801</td>\n",
       "      <td>0.565778</td>\n",
       "    </tr>\n",
       "    <tr>\n",
       "      <th>75%</th>\n",
       "      <td>0.859900</td>\n",
       "      <td>0.858596</td>\n",
       "      <td>0.738795</td>\n",
       "      <td>0.682331</td>\n",
       "    </tr>\n",
       "    <tr>\n",
       "      <th>max</th>\n",
       "      <td>0.999156</td>\n",
       "      <td>0.921797</td>\n",
       "      <td>0.991487</td>\n",
       "      <td>0.872080</td>\n",
       "    </tr>\n",
       "  </tbody>\n",
       "</table>\n",
       "</div>"
      ],
      "text/plain": [
       "               A          B          C          D\n",
       "count  10.000000  10.000000  10.000000  10.000000\n",
       "mean    0.606934   0.604179   0.568877   0.490615\n",
       "std     0.343846   0.313003   0.298639   0.275230\n",
       "min     0.160622   0.080903   0.113962   0.005769\n",
       "25%     0.253692   0.378804   0.308902   0.296512\n",
       "50%     0.760722   0.715439   0.605801   0.565778\n",
       "75%     0.859900   0.858596   0.738795   0.682331\n",
       "max     0.999156   0.921797   0.991487   0.872080"
      ]
     },
     "execution_count": 13,
     "metadata": {},
     "output_type": "execute_result"
    }
   ],
   "source": [
    "#to get quick statistics about the data\n",
    "df.describe()"
   ]
  },
  {
   "cell_type": "code",
   "execution_count": 14,
   "metadata": {},
   "outputs": [
    {
     "data": {
      "text/html": [
       "<div>\n",
       "<style scoped>\n",
       "    .dataframe tbody tr th:only-of-type {\n",
       "        vertical-align: middle;\n",
       "    }\n",
       "\n",
       "    .dataframe tbody tr th {\n",
       "        vertical-align: top;\n",
       "    }\n",
       "\n",
       "    .dataframe thead th {\n",
       "        text-align: right;\n",
       "    }\n",
       "</style>\n",
       "<table border=\"1\" class=\"dataframe\">\n",
       "  <thead>\n",
       "    <tr style=\"text-align: right;\">\n",
       "      <th></th>\n",
       "      <th>A</th>\n",
       "      <th>B</th>\n",
       "      <th>C</th>\n",
       "      <th>D</th>\n",
       "    </tr>\n",
       "  </thead>\n",
       "  <tbody>\n",
       "    <tr>\n",
       "      <th>9</th>\n",
       "      <td>0.875611</td>\n",
       "      <td>0.712334</td>\n",
       "      <td>0.244870</td>\n",
       "      <td>0.649265</td>\n",
       "    </tr>\n",
       "    <tr>\n",
       "      <th>8</th>\n",
       "      <td>0.981433</td>\n",
       "      <td>0.718544</td>\n",
       "      <td>0.709702</td>\n",
       "      <td>0.290106</td>\n",
       "    </tr>\n",
       "    <tr>\n",
       "      <th>7</th>\n",
       "      <td>0.812765</td>\n",
       "      <td>0.420442</td>\n",
       "      <td>0.951245</td>\n",
       "      <td>0.747756</td>\n",
       "    </tr>\n",
       "    <tr>\n",
       "      <th>6</th>\n",
       "      <td>0.772646</td>\n",
       "      <td>0.917495</td>\n",
       "      <td>0.644059</td>\n",
       "      <td>0.200539</td>\n",
       "    </tr>\n",
       "    <tr>\n",
       "      <th>5</th>\n",
       "      <td>0.277686</td>\n",
       "      <td>0.080903</td>\n",
       "      <td>0.567543</td>\n",
       "      <td>0.530099</td>\n",
       "    </tr>\n",
       "    <tr>\n",
       "      <th>4</th>\n",
       "      <td>0.245694</td>\n",
       "      <td>0.921797</td>\n",
       "      <td>0.259101</td>\n",
       "      <td>0.693353</td>\n",
       "    </tr>\n",
       "    <tr>\n",
       "      <th>3</th>\n",
       "      <td>0.748797</td>\n",
       "      <td>0.847844</td>\n",
       "      <td>0.748493</td>\n",
       "      <td>0.601457</td>\n",
       "    </tr>\n",
       "    <tr>\n",
       "      <th>2</th>\n",
       "      <td>0.194924</td>\n",
       "      <td>0.195329</td>\n",
       "      <td>0.113962</td>\n",
       "      <td>0.315729</td>\n",
       "    </tr>\n",
       "    <tr>\n",
       "      <th>1</th>\n",
       "      <td>0.160622</td>\n",
       "      <td>0.364925</td>\n",
       "      <td>0.991487</td>\n",
       "      <td>0.005769</td>\n",
       "    </tr>\n",
       "    <tr>\n",
       "      <th>0</th>\n",
       "      <td>0.999156</td>\n",
       "      <td>0.862180</td>\n",
       "      <td>0.458307</td>\n",
       "      <td>0.872080</td>\n",
       "    </tr>\n",
       "  </tbody>\n",
       "</table>\n",
       "</div>"
      ],
      "text/plain": [
       "          A         B         C         D\n",
       "9  0.875611  0.712334  0.244870  0.649265\n",
       "8  0.981433  0.718544  0.709702  0.290106\n",
       "7  0.812765  0.420442  0.951245  0.747756\n",
       "6  0.772646  0.917495  0.644059  0.200539\n",
       "5  0.277686  0.080903  0.567543  0.530099\n",
       "4  0.245694  0.921797  0.259101  0.693353\n",
       "3  0.748797  0.847844  0.748493  0.601457\n",
       "2  0.194924  0.195329  0.113962  0.315729\n",
       "1  0.160622  0.364925  0.991487  0.005769\n",
       "0  0.999156  0.862180  0.458307  0.872080"
      ]
     },
     "execution_count": 14,
     "metadata": {},
     "output_type": "execute_result"
    }
   ],
   "source": [
    "# for sorting the index\n",
    "df.sort_index(axis=0, ascending=False)"
   ]
  },
  {
   "cell_type": "code",
   "execution_count": 15,
   "metadata": {},
   "outputs": [
    {
     "data": {
      "text/html": [
       "<div>\n",
       "<style scoped>\n",
       "    .dataframe tbody tr th:only-of-type {\n",
       "        vertical-align: middle;\n",
       "    }\n",
       "\n",
       "    .dataframe tbody tr th {\n",
       "        vertical-align: top;\n",
       "    }\n",
       "\n",
       "    .dataframe thead th {\n",
       "        text-align: right;\n",
       "    }\n",
       "</style>\n",
       "<table border=\"1\" class=\"dataframe\">\n",
       "  <thead>\n",
       "    <tr style=\"text-align: right;\">\n",
       "      <th></th>\n",
       "      <th>A</th>\n",
       "      <th>B</th>\n",
       "      <th>C</th>\n",
       "      <th>D</th>\n",
       "    </tr>\n",
       "  </thead>\n",
       "  <tbody>\n",
       "    <tr>\n",
       "      <th>1</th>\n",
       "      <td>0.160622</td>\n",
       "      <td>0.364925</td>\n",
       "      <td>0.991487</td>\n",
       "      <td>0.005769</td>\n",
       "    </tr>\n",
       "    <tr>\n",
       "      <th>2</th>\n",
       "      <td>0.194924</td>\n",
       "      <td>0.195329</td>\n",
       "      <td>0.113962</td>\n",
       "      <td>0.315729</td>\n",
       "    </tr>\n",
       "    <tr>\n",
       "      <th>4</th>\n",
       "      <td>0.245694</td>\n",
       "      <td>0.921797</td>\n",
       "      <td>0.259101</td>\n",
       "      <td>0.693353</td>\n",
       "    </tr>\n",
       "    <tr>\n",
       "      <th>5</th>\n",
       "      <td>0.277686</td>\n",
       "      <td>0.080903</td>\n",
       "      <td>0.567543</td>\n",
       "      <td>0.530099</td>\n",
       "    </tr>\n",
       "    <tr>\n",
       "      <th>3</th>\n",
       "      <td>0.748797</td>\n",
       "      <td>0.847844</td>\n",
       "      <td>0.748493</td>\n",
       "      <td>0.601457</td>\n",
       "    </tr>\n",
       "    <tr>\n",
       "      <th>6</th>\n",
       "      <td>0.772646</td>\n",
       "      <td>0.917495</td>\n",
       "      <td>0.644059</td>\n",
       "      <td>0.200539</td>\n",
       "    </tr>\n",
       "    <tr>\n",
       "      <th>7</th>\n",
       "      <td>0.812765</td>\n",
       "      <td>0.420442</td>\n",
       "      <td>0.951245</td>\n",
       "      <td>0.747756</td>\n",
       "    </tr>\n",
       "    <tr>\n",
       "      <th>9</th>\n",
       "      <td>0.875611</td>\n",
       "      <td>0.712334</td>\n",
       "      <td>0.244870</td>\n",
       "      <td>0.649265</td>\n",
       "    </tr>\n",
       "    <tr>\n",
       "      <th>8</th>\n",
       "      <td>0.981433</td>\n",
       "      <td>0.718544</td>\n",
       "      <td>0.709702</td>\n",
       "      <td>0.290106</td>\n",
       "    </tr>\n",
       "    <tr>\n",
       "      <th>0</th>\n",
       "      <td>0.999156</td>\n",
       "      <td>0.862180</td>\n",
       "      <td>0.458307</td>\n",
       "      <td>0.872080</td>\n",
       "    </tr>\n",
       "  </tbody>\n",
       "</table>\n",
       "</div>"
      ],
      "text/plain": [
       "          A         B         C         D\n",
       "1  0.160622  0.364925  0.991487  0.005769\n",
       "2  0.194924  0.195329  0.113962  0.315729\n",
       "4  0.245694  0.921797  0.259101  0.693353\n",
       "5  0.277686  0.080903  0.567543  0.530099\n",
       "3  0.748797  0.847844  0.748493  0.601457\n",
       "6  0.772646  0.917495  0.644059  0.200539\n",
       "7  0.812765  0.420442  0.951245  0.747756\n",
       "9  0.875611  0.712334  0.244870  0.649265\n",
       "8  0.981433  0.718544  0.709702  0.290106\n",
       "0  0.999156  0.862180  0.458307  0.872080"
      ]
     },
     "execution_count": 15,
     "metadata": {},
     "output_type": "execute_result"
    }
   ],
   "source": [
    "#for sorting by a column\n",
    "df.sort_values(by='A')"
   ]
  },
  {
   "cell_type": "markdown",
   "metadata": {},
   "source": [
    "# Selecting Values\n"
   ]
  },
  {
   "cell_type": "code",
   "execution_count": 16,
   "metadata": {},
   "outputs": [
    {
     "data": {
      "text/plain": [
       "0    0.999156\n",
       "1    0.160622\n",
       "2    0.194924\n",
       "3    0.748797\n",
       "4    0.245694\n",
       "5    0.277686\n",
       "6    0.772646\n",
       "7    0.812765\n",
       "8    0.981433\n",
       "9    0.875611\n",
       "Name: A, dtype: float64"
      ]
     },
     "execution_count": 16,
     "metadata": {},
     "output_type": "execute_result"
    }
   ],
   "source": [
    "# selecting columns\n",
    "df['A']"
   ]
  },
  {
   "cell_type": "code",
   "execution_count": 17,
   "metadata": {},
   "outputs": [
    {
     "data": {
      "text/html": [
       "<div>\n",
       "<style scoped>\n",
       "    .dataframe tbody tr th:only-of-type {\n",
       "        vertical-align: middle;\n",
       "    }\n",
       "\n",
       "    .dataframe tbody tr th {\n",
       "        vertical-align: top;\n",
       "    }\n",
       "\n",
       "    .dataframe thead th {\n",
       "        text-align: right;\n",
       "    }\n",
       "</style>\n",
       "<table border=\"1\" class=\"dataframe\">\n",
       "  <thead>\n",
       "    <tr style=\"text-align: right;\">\n",
       "      <th></th>\n",
       "      <th>A</th>\n",
       "      <th>B</th>\n",
       "      <th>C</th>\n",
       "      <th>D</th>\n",
       "    </tr>\n",
       "  </thead>\n",
       "  <tbody>\n",
       "    <tr>\n",
       "      <th>0</th>\n",
       "      <td>0.999156</td>\n",
       "      <td>0.862180</td>\n",
       "      <td>0.458307</td>\n",
       "      <td>0.872080</td>\n",
       "    </tr>\n",
       "    <tr>\n",
       "      <th>1</th>\n",
       "      <td>0.160622</td>\n",
       "      <td>0.364925</td>\n",
       "      <td>0.991487</td>\n",
       "      <td>0.005769</td>\n",
       "    </tr>\n",
       "  </tbody>\n",
       "</table>\n",
       "</div>"
      ],
      "text/plain": [
       "          A         B         C         D\n",
       "0  0.999156  0.862180  0.458307  0.872080\n",
       "1  0.160622  0.364925  0.991487  0.005769"
      ]
     },
     "execution_count": 17,
     "metadata": {},
     "output_type": "execute_result"
    }
   ],
   "source": [
    "#selecting range of rows\n",
    "df[0:2]"
   ]
  },
  {
   "cell_type": "code",
   "execution_count": 18,
   "metadata": {},
   "outputs": [
    {
     "data": {
      "text/plain": [
       "A    0.999156\n",
       "B    0.862180\n",
       "C    0.458307\n",
       "D    0.872080\n",
       "Name: 0, dtype: float64"
      ]
     },
     "execution_count": 18,
     "metadata": {},
     "output_type": "execute_result"
    }
   ],
   "source": [
    "#selecting a particular row\n",
    "df.loc[0]"
   ]
  },
  {
   "cell_type": "code",
   "execution_count": 19,
   "metadata": {},
   "outputs": [
    {
     "data": {
      "text/plain": [
       "A    0.999156\n",
       "Name: 0, dtype: float64"
      ]
     },
     "execution_count": 19,
     "metadata": {},
     "output_type": "execute_result"
    }
   ],
   "source": [
    "#selecting a row and column\n",
    "df.loc[0,['A']]"
   ]
  },
  {
   "cell_type": "code",
   "execution_count": 20,
   "metadata": {},
   "outputs": [
    {
     "data": {
      "text/html": [
       "<div>\n",
       "<style scoped>\n",
       "    .dataframe tbody tr th:only-of-type {\n",
       "        vertical-align: middle;\n",
       "    }\n",
       "\n",
       "    .dataframe tbody tr th {\n",
       "        vertical-align: top;\n",
       "    }\n",
       "\n",
       "    .dataframe thead th {\n",
       "        text-align: right;\n",
       "    }\n",
       "</style>\n",
       "<table border=\"1\" class=\"dataframe\">\n",
       "  <thead>\n",
       "    <tr style=\"text-align: right;\">\n",
       "      <th></th>\n",
       "      <th>A</th>\n",
       "    </tr>\n",
       "  </thead>\n",
       "  <tbody>\n",
       "    <tr>\n",
       "      <th>0</th>\n",
       "      <td>0.999156</td>\n",
       "    </tr>\n",
       "    <tr>\n",
       "      <th>1</th>\n",
       "      <td>0.160622</td>\n",
       "    </tr>\n",
       "    <tr>\n",
       "      <th>2</th>\n",
       "      <td>0.194924</td>\n",
       "    </tr>\n",
       "    <tr>\n",
       "      <th>3</th>\n",
       "      <td>0.748797</td>\n",
       "    </tr>\n",
       "    <tr>\n",
       "      <th>4</th>\n",
       "      <td>0.245694</td>\n",
       "    </tr>\n",
       "    <tr>\n",
       "      <th>5</th>\n",
       "      <td>0.277686</td>\n",
       "    </tr>\n",
       "    <tr>\n",
       "      <th>6</th>\n",
       "      <td>0.772646</td>\n",
       "    </tr>\n",
       "    <tr>\n",
       "      <th>7</th>\n",
       "      <td>0.812765</td>\n",
       "    </tr>\n",
       "    <tr>\n",
       "      <th>8</th>\n",
       "      <td>0.981433</td>\n",
       "    </tr>\n",
       "    <tr>\n",
       "      <th>9</th>\n",
       "      <td>0.875611</td>\n",
       "    </tr>\n",
       "  </tbody>\n",
       "</table>\n",
       "</div>"
      ],
      "text/plain": [
       "          A\n",
       "0  0.999156\n",
       "1  0.160622\n",
       "2  0.194924\n",
       "3  0.748797\n",
       "4  0.245694\n",
       "5  0.277686\n",
       "6  0.772646\n",
       "7  0.812765\n",
       "8  0.981433\n",
       "9  0.875611"
      ]
     },
     "execution_count": 20,
     "metadata": {},
     "output_type": "execute_result"
    }
   ],
   "source": [
    "df.loc[:,['A']]"
   ]
  },
  {
   "cell_type": "code",
   "execution_count": 21,
   "metadata": {},
   "outputs": [
    {
     "data": {
      "text/plain": [
       "0.999155823515227"
      ]
     },
     "execution_count": 21,
     "metadata": {},
     "output_type": "execute_result"
    }
   ],
   "source": [
    "#using at instead for faster access , can't be used for a range\n",
    "df.at[0,'A']"
   ]
  },
  {
   "cell_type": "code",
   "execution_count": 22,
   "metadata": {},
   "outputs": [
    {
     "data": {
      "text/plain": [
       "A    0.999156\n",
       "B    0.862180\n",
       "C    0.458307\n",
       "D    0.872080\n",
       "Name: 0, dtype: float64"
      ]
     },
     "execution_count": 22,
     "metadata": {},
     "output_type": "execute_result"
    }
   ],
   "source": [
    "#selecting by posion \n",
    "df.iloc[0]"
   ]
  },
  {
   "cell_type": "code",
   "execution_count": 23,
   "metadata": {},
   "outputs": [
    {
     "data": {
      "text/html": [
       "<div>\n",
       "<style scoped>\n",
       "    .dataframe tbody tr th:only-of-type {\n",
       "        vertical-align: middle;\n",
       "    }\n",
       "\n",
       "    .dataframe tbody tr th {\n",
       "        vertical-align: top;\n",
       "    }\n",
       "\n",
       "    .dataframe thead th {\n",
       "        text-align: right;\n",
       "    }\n",
       "</style>\n",
       "<table border=\"1\" class=\"dataframe\">\n",
       "  <thead>\n",
       "    <tr style=\"text-align: right;\">\n",
       "      <th></th>\n",
       "      <th>A</th>\n",
       "      <th>B</th>\n",
       "      <th>C</th>\n",
       "      <th>D</th>\n",
       "    </tr>\n",
       "  </thead>\n",
       "  <tbody>\n",
       "    <tr>\n",
       "      <th>0</th>\n",
       "      <td>0.999156</td>\n",
       "      <td>0.862180</td>\n",
       "      <td>0.458307</td>\n",
       "      <td>0.872080</td>\n",
       "    </tr>\n",
       "    <tr>\n",
       "      <th>1</th>\n",
       "      <td>0.160622</td>\n",
       "      <td>0.364925</td>\n",
       "      <td>0.991487</td>\n",
       "      <td>0.005769</td>\n",
       "    </tr>\n",
       "    <tr>\n",
       "      <th>2</th>\n",
       "      <td>0.194924</td>\n",
       "      <td>0.195329</td>\n",
       "      <td>0.113962</td>\n",
       "      <td>0.315729</td>\n",
       "    </tr>\n",
       "    <tr>\n",
       "      <th>3</th>\n",
       "      <td>0.748797</td>\n",
       "      <td>0.847844</td>\n",
       "      <td>0.748493</td>\n",
       "      <td>0.601457</td>\n",
       "    </tr>\n",
       "    <tr>\n",
       "      <th>4</th>\n",
       "      <td>0.245694</td>\n",
       "      <td>0.921797</td>\n",
       "      <td>0.259101</td>\n",
       "      <td>0.693353</td>\n",
       "    </tr>\n",
       "    <tr>\n",
       "      <th>5</th>\n",
       "      <td>0.277686</td>\n",
       "      <td>0.080903</td>\n",
       "      <td>0.567543</td>\n",
       "      <td>0.530099</td>\n",
       "    </tr>\n",
       "    <tr>\n",
       "      <th>6</th>\n",
       "      <td>0.772646</td>\n",
       "      <td>0.917495</td>\n",
       "      <td>0.644059</td>\n",
       "      <td>0.200539</td>\n",
       "    </tr>\n",
       "    <tr>\n",
       "      <th>7</th>\n",
       "      <td>0.812765</td>\n",
       "      <td>0.420442</td>\n",
       "      <td>0.951245</td>\n",
       "      <td>0.747756</td>\n",
       "    </tr>\n",
       "    <tr>\n",
       "      <th>8</th>\n",
       "      <td>0.981433</td>\n",
       "      <td>0.718544</td>\n",
       "      <td>0.709702</td>\n",
       "      <td>0.290106</td>\n",
       "    </tr>\n",
       "    <tr>\n",
       "      <th>9</th>\n",
       "      <td>0.875611</td>\n",
       "      <td>0.712334</td>\n",
       "      <td>0.244870</td>\n",
       "      <td>0.649265</td>\n",
       "    </tr>\n",
       "  </tbody>\n",
       "</table>\n",
       "</div>"
      ],
      "text/plain": [
       "          A         B         C         D\n",
       "0  0.999156  0.862180  0.458307  0.872080\n",
       "1  0.160622  0.364925  0.991487  0.005769\n",
       "2  0.194924  0.195329  0.113962  0.315729\n",
       "3  0.748797  0.847844  0.748493  0.601457\n",
       "4  0.245694  0.921797  0.259101  0.693353\n",
       "5  0.277686  0.080903  0.567543  0.530099\n",
       "6  0.772646  0.917495  0.644059  0.200539\n",
       "7  0.812765  0.420442  0.951245  0.747756\n",
       "8  0.981433  0.718544  0.709702  0.290106\n",
       "9  0.875611  0.712334  0.244870  0.649265"
      ]
     },
     "execution_count": 23,
     "metadata": {},
     "output_type": "execute_result"
    }
   ],
   "source": [
    "#selecting by condition \n",
    "df[df.A>0]"
   ]
  },
  {
   "cell_type": "markdown",
   "metadata": {},
   "source": [
    "# Missing Data"
   ]
  },
  {
   "cell_type": "code",
   "execution_count": 26,
   "metadata": {},
   "outputs": [
    {
     "name": "stdout",
     "output_type": "stream",
     "text": [
      "          A         B         C         D\n",
      "0       NaN       NaN  0.458307       NaN\n",
      "1  0.160622  0.364925       NaN  0.005769\n",
      "2  0.194924  0.195329  0.113962  0.315729\n",
      "3       NaN       NaN       NaN       NaN\n",
      "4  0.245694       NaN  0.259101       NaN\n",
      "5  0.277686  0.080903       NaN       NaN\n",
      "6       NaN       NaN       NaN  0.200539\n",
      "7       NaN  0.420442       NaN       NaN\n",
      "8       NaN       NaN       NaN  0.290106\n",
      "9       NaN       NaN  0.244870       NaN\n"
     ]
    }
   ],
   "source": [
    "df2=df[df<.5]\n",
    "print(df2)"
   ]
  },
  {
   "cell_type": "code",
   "execution_count": 27,
   "metadata": {},
   "outputs": [
    {
     "data": {
      "text/html": [
       "<div>\n",
       "<style scoped>\n",
       "    .dataframe tbody tr th:only-of-type {\n",
       "        vertical-align: middle;\n",
       "    }\n",
       "\n",
       "    .dataframe tbody tr th {\n",
       "        vertical-align: top;\n",
       "    }\n",
       "\n",
       "    .dataframe thead th {\n",
       "        text-align: right;\n",
       "    }\n",
       "</style>\n",
       "<table border=\"1\" class=\"dataframe\">\n",
       "  <thead>\n",
       "    <tr style=\"text-align: right;\">\n",
       "      <th></th>\n",
       "      <th>A</th>\n",
       "      <th>B</th>\n",
       "      <th>C</th>\n",
       "      <th>D</th>\n",
       "    </tr>\n",
       "  </thead>\n",
       "  <tbody>\n",
       "    <tr>\n",
       "      <th>2</th>\n",
       "      <td>0.194924</td>\n",
       "      <td>0.195329</td>\n",
       "      <td>0.113962</td>\n",
       "      <td>0.315729</td>\n",
       "    </tr>\n",
       "  </tbody>\n",
       "</table>\n",
       "</div>"
      ],
      "text/plain": [
       "          A         B         C         D\n",
       "2  0.194924  0.195329  0.113962  0.315729"
      ]
     },
     "execution_count": 27,
     "metadata": {},
     "output_type": "execute_result"
    }
   ],
   "source": [
    "#drop all rows which have NaN\n",
    "df2.dropna()"
   ]
  },
  {
   "cell_type": "code",
   "execution_count": 28,
   "metadata": {},
   "outputs": [
    {
     "data": {
      "text/html": [
       "<div>\n",
       "<style scoped>\n",
       "    .dataframe tbody tr th:only-of-type {\n",
       "        vertical-align: middle;\n",
       "    }\n",
       "\n",
       "    .dataframe tbody tr th {\n",
       "        vertical-align: top;\n",
       "    }\n",
       "\n",
       "    .dataframe thead th {\n",
       "        text-align: right;\n",
       "    }\n",
       "</style>\n",
       "<table border=\"1\" class=\"dataframe\">\n",
       "  <thead>\n",
       "    <tr style=\"text-align: right;\">\n",
       "      <th></th>\n",
       "      <th>A</th>\n",
       "      <th>B</th>\n",
       "      <th>C</th>\n",
       "      <th>D</th>\n",
       "    </tr>\n",
       "  </thead>\n",
       "  <tbody>\n",
       "    <tr>\n",
       "      <th>0</th>\n",
       "      <td>1.000000</td>\n",
       "      <td>1.000000</td>\n",
       "      <td>0.458307</td>\n",
       "      <td>1.000000</td>\n",
       "    </tr>\n",
       "    <tr>\n",
       "      <th>1</th>\n",
       "      <td>0.160622</td>\n",
       "      <td>0.364925</td>\n",
       "      <td>1.000000</td>\n",
       "      <td>0.005769</td>\n",
       "    </tr>\n",
       "    <tr>\n",
       "      <th>2</th>\n",
       "      <td>0.194924</td>\n",
       "      <td>0.195329</td>\n",
       "      <td>0.113962</td>\n",
       "      <td>0.315729</td>\n",
       "    </tr>\n",
       "    <tr>\n",
       "      <th>3</th>\n",
       "      <td>1.000000</td>\n",
       "      <td>1.000000</td>\n",
       "      <td>1.000000</td>\n",
       "      <td>1.000000</td>\n",
       "    </tr>\n",
       "    <tr>\n",
       "      <th>4</th>\n",
       "      <td>0.245694</td>\n",
       "      <td>1.000000</td>\n",
       "      <td>0.259101</td>\n",
       "      <td>1.000000</td>\n",
       "    </tr>\n",
       "    <tr>\n",
       "      <th>5</th>\n",
       "      <td>0.277686</td>\n",
       "      <td>0.080903</td>\n",
       "      <td>1.000000</td>\n",
       "      <td>1.000000</td>\n",
       "    </tr>\n",
       "    <tr>\n",
       "      <th>6</th>\n",
       "      <td>1.000000</td>\n",
       "      <td>1.000000</td>\n",
       "      <td>1.000000</td>\n",
       "      <td>0.200539</td>\n",
       "    </tr>\n",
       "    <tr>\n",
       "      <th>7</th>\n",
       "      <td>1.000000</td>\n",
       "      <td>0.420442</td>\n",
       "      <td>1.000000</td>\n",
       "      <td>1.000000</td>\n",
       "    </tr>\n",
       "    <tr>\n",
       "      <th>8</th>\n",
       "      <td>1.000000</td>\n",
       "      <td>1.000000</td>\n",
       "      <td>1.000000</td>\n",
       "      <td>0.290106</td>\n",
       "    </tr>\n",
       "    <tr>\n",
       "      <th>9</th>\n",
       "      <td>1.000000</td>\n",
       "      <td>1.000000</td>\n",
       "      <td>0.244870</td>\n",
       "      <td>1.000000</td>\n",
       "    </tr>\n",
       "  </tbody>\n",
       "</table>\n",
       "</div>"
      ],
      "text/plain": [
       "          A         B         C         D\n",
       "0  1.000000  1.000000  0.458307  1.000000\n",
       "1  0.160622  0.364925  1.000000  0.005769\n",
       "2  0.194924  0.195329  0.113962  0.315729\n",
       "3  1.000000  1.000000  1.000000  1.000000\n",
       "4  0.245694  1.000000  0.259101  1.000000\n",
       "5  0.277686  0.080903  1.000000  1.000000\n",
       "6  1.000000  1.000000  1.000000  0.200539\n",
       "7  1.000000  0.420442  1.000000  1.000000\n",
       "8  1.000000  1.000000  1.000000  0.290106\n",
       "9  1.000000  1.000000  0.244870  1.000000"
      ]
     },
     "execution_count": 28,
     "metadata": {},
     "output_type": "execute_result"
    }
   ],
   "source": [
    "#replace NaN with other values\n",
    "df2.fillna(value=1)"
   ]
  },
  {
   "cell_type": "markdown",
   "metadata": {},
   "source": [
    "# Statistical Operations"
   ]
  },
  {
   "cell_type": "code",
   "execution_count": 29,
   "metadata": {},
   "outputs": [
    {
     "data": {
      "text/plain": [
       "A    0.606934\n",
       "B    0.604179\n",
       "C    0.568877\n",
       "D    0.490615\n",
       "dtype: float64"
      ]
     },
     "execution_count": 29,
     "metadata": {},
     "output_type": "execute_result"
    }
   ],
   "source": [
    "# taking mean\n",
    "df.mean()\n"
   ]
  },
  {
   "cell_type": "code",
   "execution_count": 30,
   "metadata": {},
   "outputs": [
    {
     "data": {
      "text/plain": [
       "0    0.797931\n",
       "1    0.380701\n",
       "2    0.204986\n",
       "3    0.736648\n",
       "4    0.529986\n",
       "5    0.364058\n",
       "6    0.633685\n",
       "7    0.733052\n",
       "8    0.674946\n",
       "9    0.620520\n",
       "dtype: float64"
      ]
     },
     "execution_count": 30,
     "metadata": {},
     "output_type": "execute_result"
    }
   ],
   "source": [
    "# mean in other axis\n",
    "df.mean(1)"
   ]
  },
  {
   "cell_type": "code",
   "execution_count": 31,
   "metadata": {},
   "outputs": [],
   "source": [
    "# read_csv and to_csv functions are used to read csv data and write to csv data respectively."
   ]
  },
  {
   "cell_type": "code",
   "execution_count": null,
   "metadata": {},
   "outputs": [],
   "source": []
  }
 ],
 "metadata": {
  "anaconda-cloud": {},
  "kernelspec": {
   "display_name": "Python 3",
   "language": "python",
   "name": "python3"
  },
  "language_info": {
   "codemirror_mode": {
    "name": "ipython",
    "version": 3
   },
   "file_extension": ".py",
   "mimetype": "text/x-python",
   "name": "python",
   "nbconvert_exporter": "python",
   "pygments_lexer": "ipython3",
   "version": "3.6.5"
  }
 },
 "nbformat": 4,
 "nbformat_minor": 1
}
